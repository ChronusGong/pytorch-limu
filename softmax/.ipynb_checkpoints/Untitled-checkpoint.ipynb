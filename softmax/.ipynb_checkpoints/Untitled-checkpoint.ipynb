{
 "cells": [
  {
   "cell_type": "markdown",
   "id": "aabcea31",
   "metadata": {},
   "source": [
    "# softmax 简洁实现"
   ]
  },
  {
   "cell_type": "code",
   "execution_count": 2,
   "id": "bf16ef33",
   "metadata": {},
   "outputs": [],
   "source": [
    "import torch\n",
    "from torch import nn\n",
    "from d2l import torch as d2l\n",
    "\n",
    "batch_size = 256\n",
    "tarin_iter, test_iter = d2l.load_data_fashion_mnist(batch_size)"
   ]
  },
  {
   "cell_type": "markdown",
   "id": "92cd5843",
   "metadata": {},
   "source": [
    "softmax回归的输出层是一个全连接层"
   ]
  },
  {
   "cell_type": "code",
   "execution_count": 3,
   "id": "aeb5e8eb",
   "metadata": {},
   "outputs": [],
   "source": [
    "# pytorch不会隐式地调整输入的形状\n",
    "# 因此，我们定义了展平层（flattern）在线性层前调整网络输入的形状\n",
    "net = nn.Sequential(nn.Flatten(), nn.Linear(784, 10))\n",
    "\n",
    "def init_weights(m):\n",
    "    if type(m) == nn.Linear:\n",
    "        nn.init.normal_(m.weight, std=0.01)\n",
    "\n",
    "net.apply(init_weights);"
   ]
  },
  {
   "cell_type": "markdown",
   "id": "8179c0b0",
   "metadata": {},
   "source": [
    "在交叉熵损失函数中传递未归一化的预测，并同时计算softmax及其对数"
   ]
  },
  {
   "cell_type": "code",
   "execution_count": 4,
   "id": "cbe48022",
   "metadata": {},
   "outputs": [],
   "source": [
    "loss = nn.CrossEntropyLoss()"
   ]
  },
  {
   "cell_type": "markdown",
   "id": "c4e585f7",
   "metadata": {},
   "source": [
    "使用学习率为0.1的小批量随机梯度下降作为优化算法"
   ]
  },
  {
   "cell_type": "code",
   "execution_count": 5,
   "id": "2a46f03c",
   "metadata": {},
   "outputs": [],
   "source": [
    "trainer = torch.optim.SGD(net.parameters(), lr=0.1)"
   ]
  },
  {
   "cell_type": "code",
   "execution_count": 7,
   "id": "9f0d0170",
   "metadata": {},
   "outputs": [
    {
     "ename": "AttributeError",
     "evalue": "module 'd2l.torch' has no attribute 'train_ch3'",
     "output_type": "error",
     "traceback": [
      "\u001b[1;31m---------------------------------------------------------------------------\u001b[0m",
      "\u001b[1;31mAttributeError\u001b[0m                            Traceback (most recent call last)",
      "Cell \u001b[1;32mIn[7], line 2\u001b[0m\n\u001b[0;32m      1\u001b[0m num_epochs \u001b[38;5;241m=\u001b[39m \u001b[38;5;241m10\u001b[39m\n\u001b[1;32m----> 2\u001b[0m \u001b[43md2l\u001b[49m\u001b[38;5;241;43m.\u001b[39;49m\u001b[43mtrain_ch3\u001b[49m(net, train_iter, test_iter, loss, num_epochs\u001b[38;5;241m.\u001b[39m train_iter)\n",
      "\u001b[1;31mAttributeError\u001b[0m: module 'd2l.torch' has no attribute 'train_ch3'"
     ]
    }
   ],
   "source": [
    "num_epochs = 10\n",
    "d2l.train_ch3(net, train_iter, test_iter, loss, num_epochs. train_iter)"
   ]
  },
  {
   "cell_type": "code",
   "execution_count": null,
   "id": "9d931b77",
   "metadata": {},
   "outputs": [],
   "source": []
  }
 ],
 "metadata": {
  "kernelspec": {
   "display_name": "Python [conda env:myenv] *",
   "language": "python",
   "name": "conda-env-myenv-py"
  },
  "language_info": {
   "codemirror_mode": {
    "name": "ipython",
    "version": 3
   },
   "file_extension": ".py",
   "mimetype": "text/x-python",
   "name": "python",
   "nbconvert_exporter": "python",
   "pygments_lexer": "ipython3",
   "version": "3.8.16"
  }
 },
 "nbformat": 4,
 "nbformat_minor": 5
}
