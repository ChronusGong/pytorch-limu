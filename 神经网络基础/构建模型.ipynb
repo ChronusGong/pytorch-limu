{
 "cells": [
  {
   "cell_type": "markdown",
   "id": "adde03fd",
   "metadata": {},
   "source": [
    "# 模型构造\n",
    "\n",
    "## 层和块"
   ]
  },
  {
   "cell_type": "code",
   "execution_count": 1,
   "id": "92777f6e",
   "metadata": {},
   "outputs": [
    {
     "data": {
      "text/plain": [
       "tensor([[-0.1205, -0.0558, -0.0393, -0.2034,  0.0516,  0.0426,  0.0419,  0.0786,\n",
       "         -0.0591,  0.2674],\n",
       "        [-0.1874, -0.2384, -0.0157, -0.1506,  0.0914, -0.1008,  0.1284,  0.0912,\n",
       "          0.0504,  0.2754]], grad_fn=<AddmmBackward0>)"
      ]
     },
     "execution_count": 1,
     "metadata": {},
     "output_type": "execute_result"
    }
   ],
   "source": [
    "import torch\n",
    "from torch import nn\n",
    "from torch.nn import functional as F\n",
    "\n",
    "net = nn.Sequential(nn.Linear(20, 256), nn.ReLU(), nn.Linear(256, 10))\n",
    "\n",
    "X = torch.rand(2, 20)\n",
    "net(X)"
   ]
  },
  {
   "cell_type": "markdown",
   "id": "915bf076",
   "metadata": {},
   "source": [
    "`nn.Sequential`定义了一种特殊的`Module`"
   ]
  },
  {
   "cell_type": "markdown",
   "id": "98b37ac0",
   "metadata": {},
   "source": [
    "**自定义块**"
   ]
  },
  {
   "cell_type": "code",
   "execution_count": 2,
   "id": "cc3c723e",
   "metadata": {},
   "outputs": [],
   "source": [
    "class MLP(nn.Module):\n",
    "    \"\"\"是nn.Module的一个子类，有两个比较重要的函数 __init__ 和 forward\"\"\"\n",
    "    def __init__(self):\n",
    "        super().__init__()\n",
    "        self.hidden = nn.Linear(20, 256)\n",
    "        self.out = nn.Linear(256, 10)\n",
    "        \n",
    "    # 前向函数\n",
    "    def forward(self, X):\n",
    "        return self.out(F.relu(self.hidden(X)))"
   ]
  },
  {
   "cell_type": "markdown",
   "id": "8846c0ad",
   "metadata": {},
   "source": [
    "实例化多层感知机的层，然后在每次调用正向传播函数时调用这些层"
   ]
  },
  {
   "cell_type": "code",
   "execution_count": 3,
   "id": "1683ffd0",
   "metadata": {},
   "outputs": [
    {
     "data": {
      "text/plain": [
       "tensor([[ 0.0622, -0.1287,  0.2647, -0.1168, -0.0008,  0.1092,  0.0821,  0.2337,\n",
       "         -0.1064, -0.0867],\n",
       "        [ 0.1724, -0.1707,  0.2765,  0.0167,  0.0119,  0.1952,  0.0535,  0.1861,\n",
       "         -0.1621, -0.1435]], grad_fn=<AddmmBackward0>)"
      ]
     },
     "execution_count": 3,
     "metadata": {},
     "output_type": "execute_result"
    }
   ],
   "source": [
    "net = MLP()\n",
    "net(X)"
   ]
  },
  {
   "cell_type": "markdown",
   "id": "81fd8e39",
   "metadata": {},
   "source": [
    "**顺序块**"
   ]
  },
  {
   "cell_type": "code",
   "execution_count": 6,
   "id": "c0072d6e",
   "metadata": {},
   "outputs": [
    {
     "data": {
      "text/plain": [
       "tensor([[-0.2301,  0.0168, -0.0499,  0.0095, -0.0565, -0.0409,  0.1120,  0.1876,\n",
       "         -0.0978,  0.0661],\n",
       "        [-0.2449,  0.0672, -0.1641, -0.0047, -0.1542,  0.2708,  0.0646,  0.0710,\n",
       "          0.0145, -0.0342]], grad_fn=<AddmmBackward0>)"
      ]
     },
     "execution_count": 6,
     "metadata": {},
     "output_type": "execute_result"
    }
   ],
   "source": [
    "class MySequential(nn.Module):\n",
    "    def __init__(self, *args):\n",
    "        super().__init__()\n",
    "        for block in args:\n",
    "            self._modules[block] = block # 特殊容器，ordering dictionary\n",
    "            \n",
    "    def forward(self, X):\n",
    "        for block in self._modules.values():\n",
    "            X = block(X)\n",
    "        return X\n",
    "\n",
    "net = MySequential(nn.Linear(20, 256), nn.ReLU(), nn.Linear(256, 10))\n",
    "net(X)"
   ]
  },
  {
   "cell_type": "markdown",
   "id": "10952fab",
   "metadata": {},
   "source": [
    "在正向传播函数中执行代码"
   ]
  },
  {
   "cell_type": "code",
   "execution_count": 7,
   "id": "47639739",
   "metadata": {},
   "outputs": [
    {
     "data": {
      "text/plain": [
       "tensor(0.3437, grad_fn=<SumBackward0>)"
      ]
     },
     "execution_count": 7,
     "metadata": {},
     "output_type": "execute_result"
    }
   ],
   "source": [
    "class FixedHiddenMLP(nn.Module):\n",
    "    def __init__(self):\n",
    "        super().__init__()\n",
    "        self.rand_weight = torch.rand((20, 20), requires_grad=False)\n",
    "        self.linear = nn.Linear(20, 20)\n",
    "    \n",
    "    def forward(self, X):\n",
    "        X = self.linear(X)\n",
    "        X = F.relu(torch.mm(X, self.rand_weight) + 1)\n",
    "        X = self.linear(X)\n",
    "        while X.abs().sum() > 1:\n",
    "            X /= 2\n",
    "        return X.sum()\n",
    "\n",
    "net = FixedHiddenMLP()\n",
    "net(X)\n",
    "    "
   ]
  },
  {
   "cell_type": "code",
   "execution_count": null,
   "id": "3a9887a9",
   "metadata": {},
   "outputs": [],
   "source": []
  }
 ],
 "metadata": {
  "kernelspec": {
   "display_name": "Python [conda env:myenv] *",
   "language": "python",
   "name": "conda-env-myenv-py"
  },
  "language_info": {
   "codemirror_mode": {
    "name": "ipython",
    "version": 3
   },
   "file_extension": ".py",
   "mimetype": "text/x-python",
   "name": "python",
   "nbconvert_exporter": "python",
   "pygments_lexer": "ipython3",
   "version": "3.8.16"
  }
 },
 "nbformat": 4,
 "nbformat_minor": 5
}
